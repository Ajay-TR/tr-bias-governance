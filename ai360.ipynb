{
 "cells": [
  {
   "cell_type": "code",
   "execution_count": 108,
   "metadata": {},
   "outputs": [],
   "source": [
    "!pip install -q aif360\n",
    "import numpy as np\n",
    "import pandas as pd\n",
    "import aif360 as aif\n",
    "from aif360.datasets import GermanDataset\n",
    "from aif360.metrics import BinaryLabelDatasetMetric\n",
    "from sklearn.impute import SimpleImputer\n",
    "from aif360.sklearn import metrics\n",
    "from scipy.stats import chisquare\n",
    "from scipy.stats import f_oneway\n",
    "import requests\n",
    "import json\n",
    "from time import sleep"
   ]
  },
  {
   "cell_type": "code",
   "execution_count": 70,
   "metadata": {},
   "outputs": [],
   "source": [
    "resumes = pd.read_csv('ResumeLinks.csv')"
   ]
  },
  {
   "cell_type": "code",
   "execution_count": 71,
   "metadata": {},
   "outputs": [
    {
     "data": {
      "text/html": [
       "<div>\n",
       "<style scoped>\n",
       "    .dataframe tbody tr th:only-of-type {\n",
       "        vertical-align: middle;\n",
       "    }\n",
       "\n",
       "    .dataframe tbody tr th {\n",
       "        vertical-align: top;\n",
       "    }\n",
       "\n",
       "    .dataframe thead th {\n",
       "        text-align: right;\n",
       "    }\n",
       "</style>\n",
       "<table border=\"1\" class=\"dataframe\">\n",
       "  <thead>\n",
       "    <tr style=\"text-align: right;\">\n",
       "      <th></th>\n",
       "      <th>Link</th>\n",
       "    </tr>\n",
       "  </thead>\n",
       "  <tbody>\n",
       "    <tr>\n",
       "      <th>0</th>\n",
       "      <td>https://drive.usercontent.google.com/download?...</td>\n",
       "    </tr>\n",
       "    <tr>\n",
       "      <th>1</th>\n",
       "      <td>https://drive.usercontent.google.com/download?...</td>\n",
       "    </tr>\n",
       "    <tr>\n",
       "      <th>2</th>\n",
       "      <td>https://drive.usercontent.google.com/download?...</td>\n",
       "    </tr>\n",
       "    <tr>\n",
       "      <th>3</th>\n",
       "      <td>https://drive.usercontent.google.com/download?...</td>\n",
       "    </tr>\n",
       "    <tr>\n",
       "      <th>4</th>\n",
       "      <td>https://drive.usercontent.google.com/download?...</td>\n",
       "    </tr>\n",
       "    <tr>\n",
       "      <th>5</th>\n",
       "      <td>https://drive.usercontent.google.com/download?...</td>\n",
       "    </tr>\n",
       "    <tr>\n",
       "      <th>6</th>\n",
       "      <td>https://drive.usercontent.google.com/download?...</td>\n",
       "    </tr>\n",
       "    <tr>\n",
       "      <th>7</th>\n",
       "      <td>https://drive.usercontent.google.com/download?...</td>\n",
       "    </tr>\n",
       "    <tr>\n",
       "      <th>8</th>\n",
       "      <td>https://drive.usercontent.google.com/download?...</td>\n",
       "    </tr>\n",
       "    <tr>\n",
       "      <th>9</th>\n",
       "      <td>https://drive.usercontent.google.com/download?...</td>\n",
       "    </tr>\n",
       "  </tbody>\n",
       "</table>\n",
       "</div>"
      ],
      "text/plain": [
       "                                                Link\n",
       "0  https://drive.usercontent.google.com/download?...\n",
       "1  https://drive.usercontent.google.com/download?...\n",
       "2  https://drive.usercontent.google.com/download?...\n",
       "3  https://drive.usercontent.google.com/download?...\n",
       "4  https://drive.usercontent.google.com/download?...\n",
       "5  https://drive.usercontent.google.com/download?...\n",
       "6  https://drive.usercontent.google.com/download?...\n",
       "7  https://drive.usercontent.google.com/download?...\n",
       "8  https://drive.usercontent.google.com/download?...\n",
       "9  https://drive.usercontent.google.com/download?..."
      ]
     },
     "execution_count": 71,
     "metadata": {},
     "output_type": "execute_result"
    }
   ],
   "source": [
    "resumes"
   ]
  },
  {
   "cell_type": "code",
   "execution_count": 72,
   "metadata": {},
   "outputs": [],
   "source": [
    "url = 'https://dev.api.talentmarx.in/api/v1/ml/extract-text' # Extract text api"
   ]
  },
  {
   "cell_type": "code",
   "execution_count": 73,
   "metadata": {},
   "outputs": [],
   "source": [
    "for index, row in resumes.iterrows():\n",
    "    data = {\"url\" : row['Link']}\n",
    "    response = requests.post(url, json=data)\n",
    "    text_from_response = response.text\n",
    "    resumes.at[index, 'text'] = text_from_response\n",
    "    if index == 5:\n",
    "        sleep(5)"
   ]
  },
  {
   "cell_type": "code",
   "execution_count": 74,
   "metadata": {},
   "outputs": [
    {
     "data": {
      "text/html": [
       "<div>\n",
       "<style scoped>\n",
       "    .dataframe tbody tr th:only-of-type {\n",
       "        vertical-align: middle;\n",
       "    }\n",
       "\n",
       "    .dataframe tbody tr th {\n",
       "        vertical-align: top;\n",
       "    }\n",
       "\n",
       "    .dataframe thead th {\n",
       "        text-align: right;\n",
       "    }\n",
       "</style>\n",
       "<table border=\"1\" class=\"dataframe\">\n",
       "  <thead>\n",
       "    <tr style=\"text-align: right;\">\n",
       "      <th></th>\n",
       "      <th>Link</th>\n",
       "      <th>text</th>\n",
       "    </tr>\n",
       "  </thead>\n",
       "  <tbody>\n",
       "    <tr>\n",
       "      <th>0</th>\n",
       "      <td>https://drive.usercontent.google.com/download?...</td>\n",
       "      <td>\"MYTHILI MURUGESAN  Email : mmythilinov19@gmai...</td>\n",
       "    </tr>\n",
       "    <tr>\n",
       "      <th>1</th>\n",
       "      <td>https://drive.usercontent.google.com/download?...</td>\n",
       "      <td>\" Neelesh Kumar Singh Phone: (+91) 9555388069 ...</td>\n",
       "    </tr>\n",
       "    <tr>\n",
       "      <th>2</th>\n",
       "      <td>https://drive.usercontent.google.com/download?...</td>\n",
       "      <td>\"PRIYANKA 2 Years experience in UI development...</td>\n",
       "    </tr>\n",
       "    <tr>\n",
       "      <th>3</th>\n",
       "      <td>https://drive.usercontent.google.com/download?...</td>\n",
       "      <td>\"Priyanshu Tiwari B.Tech, Computer Science tiw...</td>\n",
       "    </tr>\n",
       "    <tr>\n",
       "      <th>4</th>\n",
       "      <td>https://drive.usercontent.google.com/download?...</td>\n",
       "      <td>\"Vardaraj.D Mobile: +91-9886133212 Religion: H...</td>\n",
       "    </tr>\n",
       "    <tr>\n",
       "      <th>5</th>\n",
       "      <td>https://drive.usercontent.google.com/download?...</td>\n",
       "      <td>\" Mr. Ramu Vinod Vishwakarma Age: 34  Religion...</td>\n",
       "    </tr>\n",
       "    <tr>\n",
       "      <th>6</th>\n",
       "      <td>https://drive.usercontent.google.com/download?...</td>\n",
       "      <td>\"Sagar Namdev Khairnar Age: 37 Religion: Hindu...</td>\n",
       "    </tr>\n",
       "    <tr>\n",
       "      <th>7</th>\n",
       "      <td>https://drive.usercontent.google.com/download?...</td>\n",
       "      <td>\" Name : SAKTHIVADIVEL GANESAN Position : Seni...</td>\n",
       "    </tr>\n",
       "    <tr>\n",
       "      <th>8</th>\n",
       "      <td>https://drive.usercontent.google.com/download?...</td>\n",
       "      <td>\"SHRUTI AGRAWAL  Front End UI Developer Age: 3...</td>\n",
       "    </tr>\n",
       "    <tr>\n",
       "      <th>9</th>\n",
       "      <td>https://drive.usercontent.google.com/download?...</td>\n",
       "      <td>\" Curriculum Vitae Tanmay Kundu UI DEVELOPER A...</td>\n",
       "    </tr>\n",
       "  </tbody>\n",
       "</table>\n",
       "</div>"
      ],
      "text/plain": [
       "                                                Link  \\\n",
       "0  https://drive.usercontent.google.com/download?...   \n",
       "1  https://drive.usercontent.google.com/download?...   \n",
       "2  https://drive.usercontent.google.com/download?...   \n",
       "3  https://drive.usercontent.google.com/download?...   \n",
       "4  https://drive.usercontent.google.com/download?...   \n",
       "5  https://drive.usercontent.google.com/download?...   \n",
       "6  https://drive.usercontent.google.com/download?...   \n",
       "7  https://drive.usercontent.google.com/download?...   \n",
       "8  https://drive.usercontent.google.com/download?...   \n",
       "9  https://drive.usercontent.google.com/download?...   \n",
       "\n",
       "                                                text  \n",
       "0  \"MYTHILI MURUGESAN  Email : mmythilinov19@gmai...  \n",
       "1  \" Neelesh Kumar Singh Phone: (+91) 9555388069 ...  \n",
       "2  \"PRIYANKA 2 Years experience in UI development...  \n",
       "3  \"Priyanshu Tiwari B.Tech, Computer Science tiw...  \n",
       "4  \"Vardaraj.D Mobile: +91-9886133212 Religion: H...  \n",
       "5  \" Mr. Ramu Vinod Vishwakarma Age: 34  Religion...  \n",
       "6  \"Sagar Namdev Khairnar Age: 37 Religion: Hindu...  \n",
       "7  \" Name : SAKTHIVADIVEL GANESAN Position : Seni...  \n",
       "8  \"SHRUTI AGRAWAL  Front End UI Developer Age: 3...  \n",
       "9  \" Curriculum Vitae Tanmay Kundu UI DEVELOPER A...  "
      ]
     },
     "execution_count": 74,
     "metadata": {},
     "output_type": "execute_result"
    }
   ],
   "source": [
    "resumes"
   ]
  },
  {
   "cell_type": "code",
   "execution_count": 75,
   "metadata": {},
   "outputs": [],
   "source": [
    "job_description = '''Seeking a talented UI/UX Designer to spearhead our mobile app’s design, creating intuitive and engaging user experiences.Work alongside product managers and engineers in a collaborative environment to translate our vision into a functional and visually appealing app.\n",
    "\n",
    "Responsibilities:\n",
    "• 5+ years of experience as a UI/UX Designer with hands on experience in Crafting wireframes, user stories, journeys, and mockups for a diverse range of devices.\n",
    "• Solve design challenges with elegant solutions.\n",
    "• Employ a user-centered approach to design, with a cycle of testing and iteration.\n",
    "• Engage in collaborative problem-solving and idea generation.\n",
    "\n",
    "What We Offer:\n",
    "• A competitive salary with performance incentives.\n",
    "• The flexibility of remote work.\n",
    "• The chance to contribute significantly to the educational sector.\n",
    "• A vibrant culture that fosters professional growth and innovation.\n",
    "\n",
    "Engagement Type:\n",
    "• Payroll and Compliacne to be managed by: sigiq.ai\n",
    "• The client will share the agreement with the talents directly to manage their Payroll\n",
    "• Client / Talent Agreement - Full-time Permanent position\n",
    "\n",
    "This Role Requires:\n",
    "\n",
    "Must-Have Skills:\n",
    "• Demonstrated proficiency in UI/UX design tools (Adobe XD, Sketch, Figma, InVision) with a strong portfolio showcasing mobile app designs.\n",
    "• In-depth knowledge of responsive web and mobile app design, including iOS and Android guidelines.\n",
    "• Expertise in UX best practices, mobile-first and responsive design.\n",
    "• Exceptional visual design skills focused on typography, layout, and color.\n",
    "• Effective teamwork skills, with the ability to turn abstract ideas into concrete design outcomes.\n",
    "• Experience in aligning detailed design efforts with user needs and product direction.\n",
    "\n",
    "Nice-to-Have Skills:\n",
    "• Familiarity with HTML, CSS, JavaScript for design implementation.\n",
    "\n",
    "How to apply for this opportunity?\n",
    "• Register or login on our portal & fill out the application form.\n",
    "• Clear the given AI Screening (30 min) and Click on 'Apply' to get shortlisted\n",
    "• Once it's all done, your profile will be shared with the client for the Interview round.\n",
    "• When selected, just meet the client and get your exciting career started!\n",
    "\n",
    "About our Client - sigiq.ai:\n",
    "\n",
    "About Uplers:\n",
    "\n",
    "Our goal is to make hiring reliable, simple, and fast. Our role will be to help all our talents find and apply for relevant contractual onsite opportunities and progress in their career. We will support any grievances or challenges you may face during the engagement. You will also be assigned to a dedicated Talent Success Coach during the engagement.\n",
    "\n",
    "(Note: There are many more opportunities apart from this on the portal. Depending on the assessments you clear, you can apply for them as well).\n",
    "\n",
    "So, if you are ready for a new challenge, a great work environment, and an opportunity to take your career to the next level, don't hesitate to apply today. We are waiting for you'''"
   ]
  },
  {
   "cell_type": "code",
   "execution_count": 76,
   "metadata": {},
   "outputs": [],
   "source": [
    "url = 'https://dev.api.talentmarx.in/api/v1/ml/similarity/' #score api"
   ]
  },
  {
   "cell_type": "code",
   "execution_count": 84,
   "metadata": {},
   "outputs": [
    {
     "data": {
      "text/plain": [
       "dict_keys(['type', 'loc', 'msg', 'input', 'url'])"
      ]
     },
     "execution_count": 84,
     "metadata": {},
     "output_type": "execute_result"
    }
   ],
   "source": [
    "text_from_response['detail'][0].keys()"
   ]
  },
  {
   "cell_type": "code",
   "execution_count": 85,
   "metadata": {},
   "outputs": [],
   "source": [
    "for index, row in resumes.iterrows():\n",
    "    data = {\n",
    "      \"queryDocumentString\": job_description,\n",
    "      \"documentStrings\": [\n",
    "        row['text']\n",
    "      ]\n",
    "    }\n",
    "    response = requests.post(url, json=data)\n",
    "    text_from_response = eval(response.text)\n",
    "    resumes.at[index, 'score'] = text_from_response['similarities']\n",
    "    if index == 5:\n",
    "        sleep(5)"
   ]
  },
  {
   "cell_type": "code",
   "execution_count": 86,
   "metadata": {},
   "outputs": [
    {
     "data": {
      "text/html": [
       "<div>\n",
       "<style scoped>\n",
       "    .dataframe tbody tr th:only-of-type {\n",
       "        vertical-align: middle;\n",
       "    }\n",
       "\n",
       "    .dataframe tbody tr th {\n",
       "        vertical-align: top;\n",
       "    }\n",
       "\n",
       "    .dataframe thead th {\n",
       "        text-align: right;\n",
       "    }\n",
       "</style>\n",
       "<table border=\"1\" class=\"dataframe\">\n",
       "  <thead>\n",
       "    <tr style=\"text-align: right;\">\n",
       "      <th></th>\n",
       "      <th>Link</th>\n",
       "      <th>text</th>\n",
       "      <th>score</th>\n",
       "    </tr>\n",
       "  </thead>\n",
       "  <tbody>\n",
       "    <tr>\n",
       "      <th>0</th>\n",
       "      <td>https://drive.usercontent.google.com/download?...</td>\n",
       "      <td>\"MYTHILI MURUGESAN  Email : mmythilinov19@gmai...</td>\n",
       "      <td>0.557548</td>\n",
       "    </tr>\n",
       "    <tr>\n",
       "      <th>1</th>\n",
       "      <td>https://drive.usercontent.google.com/download?...</td>\n",
       "      <td>\" Neelesh Kumar Singh Phone: (+91) 9555388069 ...</td>\n",
       "      <td>0.714022</td>\n",
       "    </tr>\n",
       "    <tr>\n",
       "      <th>2</th>\n",
       "      <td>https://drive.usercontent.google.com/download?...</td>\n",
       "      <td>\"PRIYANKA 2 Years experience in UI development...</td>\n",
       "      <td>0.510026</td>\n",
       "    </tr>\n",
       "    <tr>\n",
       "      <th>3</th>\n",
       "      <td>https://drive.usercontent.google.com/download?...</td>\n",
       "      <td>\"Priyanshu Tiwari B.Tech, Computer Science tiw...</td>\n",
       "      <td>0.577816</td>\n",
       "    </tr>\n",
       "    <tr>\n",
       "      <th>4</th>\n",
       "      <td>https://drive.usercontent.google.com/download?...</td>\n",
       "      <td>\"Vardaraj.D Mobile: +91-9886133212 Religion: H...</td>\n",
       "      <td>0.527642</td>\n",
       "    </tr>\n",
       "  </tbody>\n",
       "</table>\n",
       "</div>"
      ],
      "text/plain": [
       "                                                Link  \\\n",
       "0  https://drive.usercontent.google.com/download?...   \n",
       "1  https://drive.usercontent.google.com/download?...   \n",
       "2  https://drive.usercontent.google.com/download?...   \n",
       "3  https://drive.usercontent.google.com/download?...   \n",
       "4  https://drive.usercontent.google.com/download?...   \n",
       "\n",
       "                                                text     score  \n",
       "0  \"MYTHILI MURUGESAN  Email : mmythilinov19@gmai...  0.557548  \n",
       "1  \" Neelesh Kumar Singh Phone: (+91) 9555388069 ...  0.714022  \n",
       "2  \"PRIYANKA 2 Years experience in UI development...  0.510026  \n",
       "3  \"Priyanshu Tiwari B.Tech, Computer Science tiw...  0.577816  \n",
       "4  \"Vardaraj.D Mobile: +91-9886133212 Religion: H...  0.527642  "
      ]
     },
     "execution_count": 86,
     "metadata": {},
     "output_type": "execute_result"
    }
   ],
   "source": [
    "resumes.head()"
   ]
  },
  {
   "cell_type": "code",
   "execution_count": 89,
   "metadata": {},
   "outputs": [],
   "source": [
    "url = 'https://dev.rp.talentmarx.in/post_json' #data extraction api"
   ]
  },
  {
   "cell_type": "code",
   "execution_count": 123,
   "metadata": {},
   "outputs": [],
   "source": [
    "from datetime import date \n",
    "todays_date = date.today() \n",
    "current_year = todays_date.year\n",
    "\n",
    "for index, row in resumes.iterrows():\n",
    "    data = {\"url\" : row['Link']}\n",
    "    response = requests.post(url, json=data)\n",
    "    text_from_response = eval(response.text)\n",
    "    genders = text_from_response['ResumeParserData']['Gender']\n",
    "    dob = text_from_response['ResumeParserData']['DateOfBirth'][:4]\n",
    "    age = current_year - int(dob if dob != '' else current_year)\n",
    "    resumes.at[index, 'gender'] = gender\n",
    "    resumes.at[index, 'age'] = age if age != 0 else pd.NA\n",
    "    if index == 5:\n",
    "        sleep(5)"
   ]
  },
  {
   "cell_type": "code",
   "execution_count": 131,
   "metadata": {},
   "outputs": [
    {
     "data": {
      "text/html": [
       "<div>\n",
       "<style scoped>\n",
       "    .dataframe tbody tr th:only-of-type {\n",
       "        vertical-align: middle;\n",
       "    }\n",
       "\n",
       "    .dataframe tbody tr th {\n",
       "        vertical-align: top;\n",
       "    }\n",
       "\n",
       "    .dataframe thead th {\n",
       "        text-align: right;\n",
       "    }\n",
       "</style>\n",
       "<table border=\"1\" class=\"dataframe\">\n",
       "  <thead>\n",
       "    <tr style=\"text-align: right;\">\n",
       "      <th></th>\n",
       "      <th>Link</th>\n",
       "      <th>text</th>\n",
       "      <th>score</th>\n",
       "      <th>gender</th>\n",
       "      <th>age</th>\n",
       "    </tr>\n",
       "  </thead>\n",
       "  <tbody>\n",
       "    <tr>\n",
       "      <th>1</th>\n",
       "      <td>https://drive.usercontent.google.com/download?...</td>\n",
       "      <td>\" Neelesh Kumar Singh Phone: (+91) 9555388069 ...</td>\n",
       "      <td>0.714022</td>\n",
       "      <td>Male</td>\n",
       "      <td>34.0</td>\n",
       "    </tr>\n",
       "    <tr>\n",
       "      <th>6</th>\n",
       "      <td>https://drive.usercontent.google.com/download?...</td>\n",
       "      <td>\"Sagar Namdev Khairnar Age: 37 Religion: Hindu...</td>\n",
       "      <td>0.668283</td>\n",
       "      <td>Male</td>\n",
       "      <td>NaN</td>\n",
       "    </tr>\n",
       "    <tr>\n",
       "      <th>8</th>\n",
       "      <td>https://drive.usercontent.google.com/download?...</td>\n",
       "      <td>\"SHRUTI AGRAWAL  Front End UI Developer Age: 3...</td>\n",
       "      <td>0.639950</td>\n",
       "      <td>Male</td>\n",
       "      <td>38.0</td>\n",
       "    </tr>\n",
       "    <tr>\n",
       "      <th>7</th>\n",
       "      <td>https://drive.usercontent.google.com/download?...</td>\n",
       "      <td>\" Name : SAKTHIVADIVEL GANESAN Position : Seni...</td>\n",
       "      <td>0.582533</td>\n",
       "      <td>Male</td>\n",
       "      <td>40.0</td>\n",
       "    </tr>\n",
       "    <tr>\n",
       "      <th>5</th>\n",
       "      <td>https://drive.usercontent.google.com/download?...</td>\n",
       "      <td>\" Mr. Ramu Vinod Vishwakarma Age: 34  Religion...</td>\n",
       "      <td>0.578646</td>\n",
       "      <td>Male</td>\n",
       "      <td>34.0</td>\n",
       "    </tr>\n",
       "  </tbody>\n",
       "</table>\n",
       "</div>"
      ],
      "text/plain": [
       "                                                Link  \\\n",
       "1  https://drive.usercontent.google.com/download?...   \n",
       "6  https://drive.usercontent.google.com/download?...   \n",
       "8  https://drive.usercontent.google.com/download?...   \n",
       "7  https://drive.usercontent.google.com/download?...   \n",
       "5  https://drive.usercontent.google.com/download?...   \n",
       "\n",
       "                                                text     score gender   age  \n",
       "1  \" Neelesh Kumar Singh Phone: (+91) 9555388069 ...  0.714022   Male  34.0  \n",
       "6  \"Sagar Namdev Khairnar Age: 37 Religion: Hindu...  0.668283   Male   NaN  \n",
       "8  \"SHRUTI AGRAWAL  Front End UI Developer Age: 3...  0.639950   Male  38.0  \n",
       "7  \" Name : SAKTHIVADIVEL GANESAN Position : Seni...  0.582533   Male  40.0  \n",
       "5  \" Mr. Ramu Vinod Vishwakarma Age: 34  Religion...  0.578646   Male  34.0  "
      ]
     },
     "execution_count": 131,
     "metadata": {},
     "output_type": "execute_result"
    }
   ],
   "source": [
    "resumes = resumes.sort_values(by=\"score\", ascending=False)\n",
    "resumes.head()"
   ]
  },
  {
   "cell_type": "code",
   "execution_count": 134,
   "metadata": {},
   "outputs": [],
   "source": [
    "max_selection = 4\n",
    "old_age = 35\n",
    "for index, _ in resumes.iterrows():\n",
    "    resumes.at[index, \"Selected\"] = 1 if index <= max_selection else 0\n",
    "resumes['age'] = resumes['age'].apply(lambda x: 1 if x > 35 else 0)"
   ]
  },
  {
   "cell_type": "code",
   "execution_count": 31,
   "metadata": {},
   "outputs": [],
   "source": [
    "selected = np.random.randint(2, size=df.shape[0])"
   ]
  },
  {
   "cell_type": "code",
   "execution_count": 32,
   "metadata": {},
   "outputs": [],
   "source": [
    "Selected = pd.DataFrame(selected, columns=['Selected'])"
   ]
  },
  {
   "cell_type": "code",
   "execution_count": 33,
   "metadata": {},
   "outputs": [],
   "source": [
    "df['Selected'] = Selected"
   ]
  },
  {
   "cell_type": "code",
   "execution_count": 34,
   "metadata": {},
   "outputs": [
    {
     "data": {
      "text/html": [
       "<div>\n",
       "<style scoped>\n",
       "    .dataframe tbody tr th:only-of-type {\n",
       "        vertical-align: middle;\n",
       "    }\n",
       "\n",
       "    .dataframe tbody tr th {\n",
       "        vertical-align: top;\n",
       "    }\n",
       "\n",
       "    .dataframe thead th {\n",
       "        text-align: right;\n",
       "    }\n",
       "</style>\n",
       "<table border=\"1\" class=\"dataframe\">\n",
       "  <thead>\n",
       "    <tr style=\"text-align: right;\">\n",
       "      <th></th>\n",
       "      <th>Name</th>\n",
       "      <th>Age</th>\n",
       "      <th>Religion</th>\n",
       "      <th>Job Title</th>\n",
       "      <th>Gender</th>\n",
       "      <th>Experience</th>\n",
       "      <th>Selected</th>\n",
       "    </tr>\n",
       "  </thead>\n",
       "  <tbody>\n",
       "    <tr>\n",
       "      <th>0</th>\n",
       "      <td>Akshatha</td>\n",
       "      <td>40.0</td>\n",
       "      <td>Hindu</td>\n",
       "      <td>Business Analytics</td>\n",
       "      <td>F</td>\n",
       "      <td>9.5</td>\n",
       "      <td>0</td>\n",
       "    </tr>\n",
       "    <tr>\n",
       "      <th>1</th>\n",
       "      <td>Vinod Kumar S</td>\n",
       "      <td>46.0</td>\n",
       "      <td>Hindu</td>\n",
       "      <td>Business Analytics</td>\n",
       "      <td>M</td>\n",
       "      <td>14.0</td>\n",
       "      <td>1</td>\n",
       "    </tr>\n",
       "    <tr>\n",
       "      <th>2</th>\n",
       "      <td>Tushar Kumar Saxena</td>\n",
       "      <td>41.0</td>\n",
       "      <td>Hindu</td>\n",
       "      <td>Business Analytics</td>\n",
       "      <td>M</td>\n",
       "      <td>16.0</td>\n",
       "      <td>0</td>\n",
       "    </tr>\n",
       "    <tr>\n",
       "      <th>3</th>\n",
       "      <td>ANUJ MALHOTRA</td>\n",
       "      <td>38.0</td>\n",
       "      <td>Hindu</td>\n",
       "      <td>Business Analytics</td>\n",
       "      <td>M</td>\n",
       "      <td>17.0</td>\n",
       "      <td>0</td>\n",
       "    </tr>\n",
       "    <tr>\n",
       "      <th>4</th>\n",
       "      <td>SVM Ajay SriPennada</td>\n",
       "      <td>36.0</td>\n",
       "      <td>Hindu</td>\n",
       "      <td>Business Analytics</td>\n",
       "      <td>M</td>\n",
       "      <td>4.6</td>\n",
       "      <td>0</td>\n",
       "    </tr>\n",
       "  </tbody>\n",
       "</table>\n",
       "</div>"
      ],
      "text/plain": [
       "                  Name   Age Religion           Job Title Gender  Experience  \\\n",
       "0             Akshatha  40.0    Hindu  Business Analytics      F         9.5   \n",
       "1        Vinod Kumar S  46.0    Hindu  Business Analytics      M        14.0   \n",
       "2  Tushar Kumar Saxena  41.0    Hindu  Business Analytics      M        16.0   \n",
       "3        ANUJ MALHOTRA  38.0    Hindu  Business Analytics      M        17.0   \n",
       "4  SVM Ajay SriPennada  36.0    Hindu  Business Analytics      M         4.6   \n",
       "\n",
       "   Selected  \n",
       "0         0  \n",
       "1         1  \n",
       "2         0  \n",
       "3         0  \n",
       "4         0  "
      ]
     },
     "execution_count": 34,
     "metadata": {},
     "output_type": "execute_result"
    }
   ],
   "source": [
    "df.head()"
   ]
  },
  {
   "cell_type": "code",
   "execution_count": 35,
   "metadata": {},
   "outputs": [
    {
     "data": {
      "text/plain": [
       "Name          0\n",
       "Age           2\n",
       "Religion      1\n",
       "Job Title     0\n",
       "Gender        0\n",
       "Experience    1\n",
       "Selected      0\n",
       "dtype: int64"
      ]
     },
     "execution_count": 35,
     "metadata": {},
     "output_type": "execute_result"
    }
   ],
   "source": [
    "df.isna().sum()"
   ]
  },
  {
   "cell_type": "code",
   "execution_count": 42,
   "metadata": {},
   "outputs": [],
   "source": [
    "df.dropna(inplace=True)"
   ]
  },
  {
   "cell_type": "code",
   "execution_count": 55,
   "metadata": {},
   "outputs": [
    {
     "data": {
      "text/plain": [
       "0.05714285714285716"
      ]
     },
     "execution_count": 55,
     "metadata": {},
     "output_type": "execute_result"
    }
   ],
   "source": [
    "metrics.statistical_parity_difference(df['Selected'], prot_attr=df['Gender'], priv_group='M')"
   ]
  },
  {
   "cell_type": "code",
   "execution_count": 57,
   "metadata": {},
   "outputs": [
    {
     "data": {
      "text/plain": [
       "-0.13025210084033617"
      ]
     },
     "execution_count": 57,
     "metadata": {},
     "output_type": "execute_result"
    }
   ],
   "source": [
    "metrics.statistical_parity_difference(df['Selected'], prot_attr=df['Religion'], priv_group='Hindu')"
   ]
  },
  {
   "cell_type": "code",
   "execution_count": 58,
   "metadata": {},
   "outputs": [
    {
     "data": {
      "text/plain": [
       "1.105263157894737"
      ]
     },
     "execution_count": 58,
     "metadata": {},
     "output_type": "execute_result"
    }
   ],
   "source": [
    "metrics.disparate_impact_ratio(df['Selected'], prot_attr=df['Gender'], priv_group='M')"
   ]
  },
  {
   "cell_type": "code",
   "execution_count": 59,
   "metadata": {},
   "outputs": [
    {
     "data": {
      "text/plain": [
       "0.7669172932330827"
      ]
     },
     "execution_count": 59,
     "metadata": {},
     "output_type": "execute_result"
    }
   ],
   "source": [
    "metrics.disparate_impact_ratio(df['Selected'], prot_attr=df['Religion'], priv_group='Hindu')"
   ]
  },
  {
   "cell_type": "code",
   "execution_count": 78,
   "metadata": {},
   "outputs": [
    {
     "data": {
      "text/plain": [
       "-0.8666666666666667"
      ]
     },
     "execution_count": 78,
     "metadata": {},
     "output_type": "execute_result"
    }
   ],
   "source": [
    "metrics.class_imbalance(y_true=df['Selected'], prot_attr=df['Gender'], priv_group='M')"
   ]
  },
  {
   "cell_type": "code",
   "execution_count": 77,
   "metadata": {},
   "outputs": [
    {
     "data": {
      "text/plain": [
       "-0.8133333333333334"
      ]
     },
     "execution_count": 77,
     "metadata": {},
     "output_type": "execute_result"
    }
   ],
   "source": [
    "metrics.class_imbalance(y_true=df['Selected'], prot_attr=df['Religion'], priv_group='Hindu')"
   ]
  },
  {
   "cell_type": "code",
   "execution_count": 70,
   "metadata": {},
   "outputs": [
    {
     "data": {
      "text/plain": [
       "0.006711901983134094"
      ]
     },
     "execution_count": 70,
     "metadata": {},
     "output_type": "execute_result"
    }
   ],
   "source": [
    "metrics.kl_divergence(y_true=df['Selected'], prot_attr=df['Gender'], priv_group='M')"
   ]
  },
  {
   "cell_type": "code",
   "execution_count": 62,
   "metadata": {},
   "outputs": [
    {
     "data": {
      "text/plain": [
       "({'Name': ['ANUJ MALHOTRA',\n",
       "   'ASHISH KUMAR KHAMARI',\n",
       "   'Aabid A.S. Mulani',\n",
       "   'Akshatha',\n",
       "   'Anil Kumar',\n",
       "   'Arunesh Sharma',\n",
       "   'Charan Kumar Reddy',\n",
       "   'Jayakkumar Krishnasamy',\n",
       "   'Madan Mohan',\n",
       "   'Mudassar L Shaikh\\t',\n",
       "   'NITIN CHANDORKAR',\n",
       "   'Neelakanta R',\n",
       "   'PRAHALADHA',\n",
       "   'SVM Ajay SriPennada',\n",
       "   'Sabeeh Ashhar ',\n",
       "   'Sachindra D',\n",
       "   'Sakthivadivel Ganesan',\n",
       "   'Sandeep Cheedepudi',\n",
       "   'Sankalp S. Rao',\n",
       "   'Sathyandran S K',\n",
       "   'Saurabh Suhasaria',\n",
       "   'Thilagavathi Saravanan',\n",
       "   'Tushar Kumar Saxena'],\n",
       "  'Age': [32.0, 36.0, 37.0, 38.0, 39.0, 40.0, 41.0, 42.0, 43.0, 45.0, 46.0],\n",
       "  'Job Title': ['Android', 'Business Analytics', 'QA Testing', 'Sales', 'UI'],\n",
       "  'Experience': [4.6,\n",
       "   6.0,\n",
       "   9.5,\n",
       "   11.0,\n",
       "   12.0,\n",
       "   12.7,\n",
       "   13.0,\n",
       "   14.0,\n",
       "   15.0,\n",
       "   16.0,\n",
       "   17.0,\n",
       "   18.0,\n",
       "   19.0,\n",
       "   20.0,\n",
       "   21.0],\n",
       "  'Gender': ['F', 'M'],\n",
       "  'Religion': ['Hindu', 'Muslim']},\n",
       " 18.155)"
      ]
     },
     "execution_count": 62,
     "metadata": {},
     "output_type": "execute_result"
    }
   ],
   "source": [
    "aif.detectors.bias_scan(df.drop(columns=['Selected']), df['Selected'])"
   ]
  },
  {
   "cell_type": "code",
   "execution_count": 80,
   "metadata": {},
   "outputs": [],
   "source": [
    "def standard_deviation_ratio(scores, groups):\n",
    "    std_dev_group_A = np.std(scores[groups[0]])\n",
    "    std_dev_group_B = np.std(scores[groups[1]])\n",
    "    return std_dev_group_A / std_dev_group_B\n",
    "\n",
    "def standard_deviation_disparity(scores, groups):\n",
    "    std_dev_group_A = np.std(scores[groups[0]])\n",
    "    std_dev_group_B = np.std(scores[groups[1]])\n",
    "    std_dev_overall = np.std(scores)\n",
    "    return (std_dev_group_A - std_dev_group_B) / std_dev_overall\n",
    "\n",
    "def equal_opportunity(true_positives, total_positives):\n",
    "    return true_positives / total_positives\n",
    "\n",
    "\n",
    "def chi2_test(observed, alpha=0.05):\n",
    "    expected = [sum(observed) / len(observed)] * 6\n",
    "    chi2, p = chisquare(observed, f_exp=expected)\n",
    "    return p < alpha\n",
    "\n",
    "def anova_bias(col1, col2):\n",
    "    res = f_oneway(col1.tolist(),col2.tolist())\n",
    "    print(\"H0 Accepted\") if res.pvalue > 0.05 else print(\"H0 Rejected\")\n",
    "    \n",
    "def demographic_parity(col1, col2,threshold):\n",
    "    ratio1 = sum(col1) / len(col1)\n",
    "    ratio2 = sum(col2) / len(col2)\n",
    "    print(\"Bias exists\") if(abs(ratio1-ratio2) > threshold) else print(\"No bias\")"
   ]
  }
 ],
 "metadata": {
  "kernelspec": {
   "display_name": "Python 3 (ipykernel)",
   "language": "python",
   "name": "python3"
  },
  "language_info": {
   "codemirror_mode": {
    "name": "ipython",
    "version": 3
   },
   "file_extension": ".py",
   "mimetype": "text/x-python",
   "name": "python",
   "nbconvert_exporter": "python",
   "pygments_lexer": "ipython3",
   "version": "3.8.17"
  }
 },
 "nbformat": 4,
 "nbformat_minor": 2
}
