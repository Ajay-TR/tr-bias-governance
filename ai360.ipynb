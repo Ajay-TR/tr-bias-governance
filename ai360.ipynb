{
 "cells": [
  {
   "cell_type": "code",
   "execution_count": 82,
   "metadata": {},
   "outputs": [],
   "source": [
    "import numpy as np\n",
    "import pandas as pd\n",
    "import aif360 as aif\n",
    "from aif360.datasets import GermanDataset\n",
    "from aif360.metrics import BinaryLabelDatasetMetric\n",
    "from sklearn.impute import SimpleImputer\n",
    "from aif360.sklearn import metrics\n",
    "from scipy.stats import chisquare\n",
    "from scipy.stats import f_oneway"
   ]
  },
  {
   "cell_type": "code",
   "execution_count": 27,
   "metadata": {},
   "outputs": [],
   "source": [
    "df = pd.read_csv('resume_extracted_data.csv')"
   ]
  },
  {
   "cell_type": "code",
   "execution_count": 28,
   "metadata": {},
   "outputs": [
    {
     "data": {
      "text/html": [
       "<div>\n",
       "<style scoped>\n",
       "    .dataframe tbody tr th:only-of-type {\n",
       "        vertical-align: middle;\n",
       "    }\n",
       "\n",
       "    .dataframe tbody tr th {\n",
       "        vertical-align: top;\n",
       "    }\n",
       "\n",
       "    .dataframe thead th {\n",
       "        text-align: right;\n",
       "    }\n",
       "</style>\n",
       "<table border=\"1\" class=\"dataframe\">\n",
       "  <thead>\n",
       "    <tr style=\"text-align: right;\">\n",
       "      <th></th>\n",
       "      <th>Name</th>\n",
       "      <th>Age</th>\n",
       "      <th>Religion</th>\n",
       "      <th>Job Title</th>\n",
       "      <th>Gender</th>\n",
       "      <th>Experience</th>\n",
       "      <th>Home City</th>\n",
       "      <th>UG Institute</th>\n",
       "      <th>PG Institute</th>\n",
       "      <th>PHD Institute</th>\n",
       "    </tr>\n",
       "  </thead>\n",
       "  <tbody>\n",
       "    <tr>\n",
       "      <th>0</th>\n",
       "      <td>Akshatha</td>\n",
       "      <td>40.0</td>\n",
       "      <td>Hindu</td>\n",
       "      <td>Business Analytics</td>\n",
       "      <td>F</td>\n",
       "      <td>9.5</td>\n",
       "      <td>Bangalore</td>\n",
       "      <td>St.Agnes College</td>\n",
       "      <td>Mangalore University</td>\n",
       "      <td>NaN</td>\n",
       "    </tr>\n",
       "    <tr>\n",
       "      <th>1</th>\n",
       "      <td>Vinod Kumar S</td>\n",
       "      <td>46.0</td>\n",
       "      <td>Hindu</td>\n",
       "      <td>Business Analytics</td>\n",
       "      <td>M</td>\n",
       "      <td>14.0</td>\n",
       "      <td>Bangalore</td>\n",
       "      <td>NaN</td>\n",
       "      <td>NaN</td>\n",
       "      <td>NaN</td>\n",
       "    </tr>\n",
       "    <tr>\n",
       "      <th>2</th>\n",
       "      <td>Tushar Kumar Saxena</td>\n",
       "      <td>41.0</td>\n",
       "      <td>Hindu</td>\n",
       "      <td>Business Analytics</td>\n",
       "      <td>M</td>\n",
       "      <td>16.0</td>\n",
       "      <td>NaN</td>\n",
       "      <td>DAV College</td>\n",
       "      <td>Birla Institute of Management Technology</td>\n",
       "      <td>NaN</td>\n",
       "    </tr>\n",
       "    <tr>\n",
       "      <th>3</th>\n",
       "      <td>ANUJ MALHOTRA</td>\n",
       "      <td>38.0</td>\n",
       "      <td>Hindu</td>\n",
       "      <td>Business Analytics</td>\n",
       "      <td>M</td>\n",
       "      <td>17.0</td>\n",
       "      <td>New Delhi</td>\n",
       "      <td>Delhi University</td>\n",
       "      <td>IICT Lucknow</td>\n",
       "      <td>NaN</td>\n",
       "    </tr>\n",
       "    <tr>\n",
       "      <th>4</th>\n",
       "      <td>SVM Ajay SriPennada</td>\n",
       "      <td>36.0</td>\n",
       "      <td>Hindu</td>\n",
       "      <td>Business Analytics</td>\n",
       "      <td>M</td>\n",
       "      <td>4.6</td>\n",
       "      <td>NaN</td>\n",
       "      <td>VIT, Vellore</td>\n",
       "      <td>Great lakes Institute of Management</td>\n",
       "      <td>NaN</td>\n",
       "    </tr>\n",
       "  </tbody>\n",
       "</table>\n",
       "</div>"
      ],
      "text/plain": [
       "                  Name   Age Religion           Job Title Gender  Experience  \\\n",
       "0             Akshatha  40.0    Hindu  Business Analytics      F         9.5   \n",
       "1        Vinod Kumar S  46.0    Hindu  Business Analytics      M        14.0   \n",
       "2  Tushar Kumar Saxena  41.0    Hindu  Business Analytics      M        16.0   \n",
       "3        ANUJ MALHOTRA  38.0    Hindu  Business Analytics      M        17.0   \n",
       "4  SVM Ajay SriPennada  36.0    Hindu  Business Analytics      M         4.6   \n",
       "\n",
       "   Home City      UG Institute                              PG Institute  \\\n",
       "0  Bangalore  St.Agnes College                      Mangalore University   \n",
       "1  Bangalore               NaN                                       NaN   \n",
       "2        NaN       DAV College  Birla Institute of Management Technology   \n",
       "3  New Delhi  Delhi University                              IICT Lucknow   \n",
       "4        NaN      VIT, Vellore       Great lakes Institute of Management   \n",
       "\n",
       "   PHD Institute  \n",
       "0            NaN  \n",
       "1            NaN  \n",
       "2            NaN  \n",
       "3            NaN  \n",
       "4            NaN  "
      ]
     },
     "execution_count": 28,
     "metadata": {},
     "output_type": "execute_result"
    }
   ],
   "source": [
    "df.head()"
   ]
  },
  {
   "cell_type": "code",
   "execution_count": 29,
   "metadata": {},
   "outputs": [],
   "source": [
    "df.drop(columns=['PHD Institute','UG Institute','PG Institute','Home City'], inplace=True)"
   ]
  },
  {
   "cell_type": "code",
   "execution_count": 30,
   "metadata": {},
   "outputs": [
    {
     "data": {
      "text/plain": [
       "(78, 6)"
      ]
     },
     "execution_count": 30,
     "metadata": {},
     "output_type": "execute_result"
    }
   ],
   "source": [
    "df.shape"
   ]
  },
  {
   "cell_type": "code",
   "execution_count": 31,
   "metadata": {},
   "outputs": [],
   "source": [
    "selected = np.random.randint(2, size=df.shape[0])\n"
   ]
  },
  {
   "cell_type": "code",
   "execution_count": 32,
   "metadata": {},
   "outputs": [],
   "source": [
    "Selected = pd.DataFrame(selected, columns=['Selected'])"
   ]
  },
  {
   "cell_type": "code",
   "execution_count": 33,
   "metadata": {},
   "outputs": [],
   "source": [
    "df['Selected'] = Selected"
   ]
  },
  {
   "cell_type": "code",
   "execution_count": 34,
   "metadata": {},
   "outputs": [
    {
     "data": {
      "text/html": [
       "<div>\n",
       "<style scoped>\n",
       "    .dataframe tbody tr th:only-of-type {\n",
       "        vertical-align: middle;\n",
       "    }\n",
       "\n",
       "    .dataframe tbody tr th {\n",
       "        vertical-align: top;\n",
       "    }\n",
       "\n",
       "    .dataframe thead th {\n",
       "        text-align: right;\n",
       "    }\n",
       "</style>\n",
       "<table border=\"1\" class=\"dataframe\">\n",
       "  <thead>\n",
       "    <tr style=\"text-align: right;\">\n",
       "      <th></th>\n",
       "      <th>Name</th>\n",
       "      <th>Age</th>\n",
       "      <th>Religion</th>\n",
       "      <th>Job Title</th>\n",
       "      <th>Gender</th>\n",
       "      <th>Experience</th>\n",
       "      <th>Selected</th>\n",
       "    </tr>\n",
       "  </thead>\n",
       "  <tbody>\n",
       "    <tr>\n",
       "      <th>0</th>\n",
       "      <td>Akshatha</td>\n",
       "      <td>40.0</td>\n",
       "      <td>Hindu</td>\n",
       "      <td>Business Analytics</td>\n",
       "      <td>F</td>\n",
       "      <td>9.5</td>\n",
       "      <td>0</td>\n",
       "    </tr>\n",
       "    <tr>\n",
       "      <th>1</th>\n",
       "      <td>Vinod Kumar S</td>\n",
       "      <td>46.0</td>\n",
       "      <td>Hindu</td>\n",
       "      <td>Business Analytics</td>\n",
       "      <td>M</td>\n",
       "      <td>14.0</td>\n",
       "      <td>1</td>\n",
       "    </tr>\n",
       "    <tr>\n",
       "      <th>2</th>\n",
       "      <td>Tushar Kumar Saxena</td>\n",
       "      <td>41.0</td>\n",
       "      <td>Hindu</td>\n",
       "      <td>Business Analytics</td>\n",
       "      <td>M</td>\n",
       "      <td>16.0</td>\n",
       "      <td>0</td>\n",
       "    </tr>\n",
       "    <tr>\n",
       "      <th>3</th>\n",
       "      <td>ANUJ MALHOTRA</td>\n",
       "      <td>38.0</td>\n",
       "      <td>Hindu</td>\n",
       "      <td>Business Analytics</td>\n",
       "      <td>M</td>\n",
       "      <td>17.0</td>\n",
       "      <td>0</td>\n",
       "    </tr>\n",
       "    <tr>\n",
       "      <th>4</th>\n",
       "      <td>SVM Ajay SriPennada</td>\n",
       "      <td>36.0</td>\n",
       "      <td>Hindu</td>\n",
       "      <td>Business Analytics</td>\n",
       "      <td>M</td>\n",
       "      <td>4.6</td>\n",
       "      <td>0</td>\n",
       "    </tr>\n",
       "  </tbody>\n",
       "</table>\n",
       "</div>"
      ],
      "text/plain": [
       "                  Name   Age Religion           Job Title Gender  Experience  \\\n",
       "0             Akshatha  40.0    Hindu  Business Analytics      F         9.5   \n",
       "1        Vinod Kumar S  46.0    Hindu  Business Analytics      M        14.0   \n",
       "2  Tushar Kumar Saxena  41.0    Hindu  Business Analytics      M        16.0   \n",
       "3        ANUJ MALHOTRA  38.0    Hindu  Business Analytics      M        17.0   \n",
       "4  SVM Ajay SriPennada  36.0    Hindu  Business Analytics      M         4.6   \n",
       "\n",
       "   Selected  \n",
       "0         0  \n",
       "1         1  \n",
       "2         0  \n",
       "3         0  \n",
       "4         0  "
      ]
     },
     "execution_count": 34,
     "metadata": {},
     "output_type": "execute_result"
    }
   ],
   "source": [
    "df.head()"
   ]
  },
  {
   "cell_type": "code",
   "execution_count": 35,
   "metadata": {},
   "outputs": [
    {
     "data": {
      "text/plain": [
       "Name          0\n",
       "Age           2\n",
       "Religion      1\n",
       "Job Title     0\n",
       "Gender        0\n",
       "Experience    1\n",
       "Selected      0\n",
       "dtype: int64"
      ]
     },
     "execution_count": 35,
     "metadata": {},
     "output_type": "execute_result"
    }
   ],
   "source": [
    "df.isna().sum()"
   ]
  },
  {
   "cell_type": "code",
   "execution_count": 42,
   "metadata": {},
   "outputs": [],
   "source": [
    "df.dropna(inplace=True)"
   ]
  },
  {
   "cell_type": "code",
   "execution_count": 55,
   "metadata": {},
   "outputs": [
    {
     "data": {
      "text/plain": [
       "0.05714285714285716"
      ]
     },
     "execution_count": 55,
     "metadata": {},
     "output_type": "execute_result"
    }
   ],
   "source": [
    "metrics.statistical_parity_difference(df['Selected'], prot_attr=df['Gender'], priv_group='M')"
   ]
  },
  {
   "cell_type": "code",
   "execution_count": 57,
   "metadata": {},
   "outputs": [
    {
     "data": {
      "text/plain": [
       "-0.13025210084033617"
      ]
     },
     "execution_count": 57,
     "metadata": {},
     "output_type": "execute_result"
    }
   ],
   "source": [
    "metrics.statistical_parity_difference(df['Selected'], prot_attr=df['Religion'], priv_group='Hindu')"
   ]
  },
  {
   "cell_type": "code",
   "execution_count": 58,
   "metadata": {},
   "outputs": [
    {
     "data": {
      "text/plain": [
       "1.105263157894737"
      ]
     },
     "execution_count": 58,
     "metadata": {},
     "output_type": "execute_result"
    }
   ],
   "source": [
    "metrics.disparate_impact_ratio(df['Selected'], prot_attr=df['Gender'], priv_group='M')"
   ]
  },
  {
   "cell_type": "code",
   "execution_count": 59,
   "metadata": {},
   "outputs": [
    {
     "data": {
      "text/plain": [
       "0.7669172932330827"
      ]
     },
     "execution_count": 59,
     "metadata": {},
     "output_type": "execute_result"
    }
   ],
   "source": [
    "metrics.disparate_impact_ratio(df['Selected'], prot_attr=df['Religion'], priv_group='Hindu')"
   ]
  },
  {
   "cell_type": "code",
   "execution_count": 78,
   "metadata": {},
   "outputs": [
    {
     "data": {
      "text/plain": [
       "-0.8666666666666667"
      ]
     },
     "execution_count": 78,
     "metadata": {},
     "output_type": "execute_result"
    }
   ],
   "source": [
    "metrics.class_imbalance(y_true=df['Selected'], prot_attr=df['Gender'], priv_group='M')"
   ]
  },
  {
   "cell_type": "code",
   "execution_count": 77,
   "metadata": {},
   "outputs": [
    {
     "data": {
      "text/plain": [
       "-0.8133333333333334"
      ]
     },
     "execution_count": 77,
     "metadata": {},
     "output_type": "execute_result"
    }
   ],
   "source": [
    "metrics.class_imbalance(y_true=df['Selected'], prot_attr=df['Religion'], priv_group='Hindu')"
   ]
  },
  {
   "cell_type": "code",
   "execution_count": 70,
   "metadata": {},
   "outputs": [
    {
     "data": {
      "text/plain": [
       "0.006711901983134094"
      ]
     },
     "execution_count": 70,
     "metadata": {},
     "output_type": "execute_result"
    }
   ],
   "source": [
    "metrics.kl_divergence(y_true=df['Selected'], prot_attr=df['Gender'], priv_group='M')"
   ]
  },
  {
   "cell_type": "code",
   "execution_count": 62,
   "metadata": {},
   "outputs": [
    {
     "data": {
      "text/plain": [
       "({'Name': ['ANUJ MALHOTRA',\n",
       "   'ASHISH KUMAR KHAMARI',\n",
       "   'Aabid A.S. Mulani',\n",
       "   'Akshatha',\n",
       "   'Anil Kumar',\n",
       "   'Arunesh Sharma',\n",
       "   'Charan Kumar Reddy',\n",
       "   'Jayakkumar Krishnasamy',\n",
       "   'Madan Mohan',\n",
       "   'Mudassar L Shaikh\\t',\n",
       "   'NITIN CHANDORKAR',\n",
       "   'Neelakanta R',\n",
       "   'PRAHALADHA',\n",
       "   'SVM Ajay SriPennada',\n",
       "   'Sabeeh Ashhar ',\n",
       "   'Sachindra D',\n",
       "   'Sakthivadivel Ganesan',\n",
       "   'Sandeep Cheedepudi',\n",
       "   'Sankalp S. Rao',\n",
       "   'Sathyandran S K',\n",
       "   'Saurabh Suhasaria',\n",
       "   'Thilagavathi Saravanan',\n",
       "   'Tushar Kumar Saxena'],\n",
       "  'Age': [32.0, 36.0, 37.0, 38.0, 39.0, 40.0, 41.0, 42.0, 43.0, 45.0, 46.0],\n",
       "  'Job Title': ['Android', 'Business Analytics', 'QA Testing', 'Sales', 'UI'],\n",
       "  'Experience': [4.6,\n",
       "   6.0,\n",
       "   9.5,\n",
       "   11.0,\n",
       "   12.0,\n",
       "   12.7,\n",
       "   13.0,\n",
       "   14.0,\n",
       "   15.0,\n",
       "   16.0,\n",
       "   17.0,\n",
       "   18.0,\n",
       "   19.0,\n",
       "   20.0,\n",
       "   21.0],\n",
       "  'Gender': ['F', 'M'],\n",
       "  'Religion': ['Hindu', 'Muslim']},\n",
       " 18.155)"
      ]
     },
     "execution_count": 62,
     "metadata": {},
     "output_type": "execute_result"
    }
   ],
   "source": [
    "aif.detectors.bias_scan(df.drop(columns=['Selected']), df['Selected'])"
   ]
  },
  {
   "cell_type": "code",
   "execution_count": 80,
   "metadata": {},
   "outputs": [],
   "source": [
    "def standard_deviation_ratio(scores, groups):\n",
    "    std_dev_group_A = np.std(scores[groups[0]])\n",
    "    std_dev_group_B = np.std(scores[groups[1]])\n",
    "    return std_dev_group_A / std_dev_group_B\n",
    "\n",
    "def standard_deviation_disparity(scores, groups):\n",
    "    std_dev_group_A = np.std(scores[groups[0]])\n",
    "    std_dev_group_B = np.std(scores[groups[1]])\n",
    "    std_dev_overall = np.std(scores)\n",
    "    return (std_dev_group_A - std_dev_group_B) / std_dev_overall\n",
    "\n",
    "def equal_opportunity(true_positives, total_positives):\n",
    "    return true_positives / total_positives\n",
    "\n",
    "\n",
    "def chi2_test(observed, alpha=0.05):\n",
    "    expected = [sum(observed) / len(observed)] * 6\n",
    "    chi2, p = chisquare(observed, f_exp=expected)\n",
    "    return p < alpha\n",
    "\n",
    "def anova_bias(col1, col2):\n",
    "    res = f_oneway(col1.tolist(),col2.tolist())\n",
    "    print(\"H0 Accepted\") if res.pvalue > 0.05 else print(\"H0 Rejected\")\n",
    "    \n",
    "def demographic_parity(col1, col2,threshold):\n",
    "    ratio1 = sum(col1) / len(col1)\n",
    "    ratio2 = sum(col2) / len(col2)\n",
    "    print(\"Bias exists\") if(abs(ratio1-ratio2) > threshold) else print(\"No bias\")"
   ]
  }
 ],
 "metadata": {
  "kernelspec": {
   "display_name": "shourya",
   "language": "python",
   "name": "python3"
  },
  "language_info": {
   "codemirror_mode": {
    "name": "ipython",
    "version": 3
   },
   "file_extension": ".py",
   "mimetype": "text/x-python",
   "name": "python",
   "nbconvert_exporter": "python",
   "pygments_lexer": "ipython3",
   "version": "3.11.4"
  }
 },
 "nbformat": 4,
 "nbformat_minor": 2
}
